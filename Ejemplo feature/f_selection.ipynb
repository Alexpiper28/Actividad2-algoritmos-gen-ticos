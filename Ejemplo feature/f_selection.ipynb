{
 "cells": [
  {
   "cell_type": "markdown",
   "id": "58e6f37a",
   "metadata": {},
   "source": [
    "# Algoritmo Genético para Selección de Características\n",
    "\n",
    "Este notebook implementa un **algoritmo genético** para realizar **selección de características** en el conjunto de datos de **cáncer de mama** de `sklearn`. Utilizamos un **árbol de decisión** como clasificador y validación cruzada para evaluar la aptitud de las soluciones.\n",
    "\n",
    "Vamos a dividir el código en secciones con explicaciones detalladas para que puedas entender cada parte del proceso.\n",
    "\n",
    "---\n",
    "\n",
    "## 1. Importación de Librerías\n",
    "Primero, necesitamos importar las librerías necesarias para nuestro algoritmo genético y el manejo de los datos.\n"
   ]
  },
  {
   "cell_type": "code",
   "execution_count": 1,
   "id": "d3365314",
   "metadata": {},
   "outputs": [],
   "source": [
    "# Importar las librerías necesarias\n",
    "import random\n",
    "import numpy as np\n",
    "from sklearn.datasets import load_breast_cancer\n",
    "from sklearn.model_selection import cross_val_score\n",
    "from sklearn.tree import DecisionTreeClassifier\n",
    "import matplotlib.pyplot as plt\n"
   ]
  },
  {
   "cell_type": "markdown",
   "id": "00d48718",
   "metadata": {},
   "source": [
    "En esta celda, estamos importando:\n",
    "\n",
    "- **`random`**: Para manejar las aleatoriedades en el algoritmo genético (como la selección por torneo, el cruce y la mutación).\n",
    "- **`numpy`**: Para manejar arrays y matrices de manera eficiente, que es especialmente útil para trabajar con las poblaciones de los individuos.\n",
    "- **`sklearn.datasets`**: Para cargar el dataset de cáncer de mama.\n",
    "- **`sklearn.model_selection`**: Para hacer validación cruzada con el modelo de clasificación.\n",
    "- **`sklearn.tree`**: Para usar un clasificador de árbol de decisión en la evaluación de la aptitud.\n",
    "- **`matplotlib.pyplot`**: Para graficar el progreso del algoritmo genético a través de las generaciones.\n"
   ]
  },
  {
   "cell_type": "code",
   "execution_count": null,
   "id": "d1864fc0",
   "metadata": {},
   "outputs": [],
   "source": []
  },
  {
   "cell_type": "markdown",
   "id": "52ee25a3",
   "metadata": {},
   "source": [
    "### Dataset: Cáncer de Mama\n",
    "\n",
    "El conjunto de datos **cáncer de mama** contiene 30 características que describen varias medidas de las células tumorales. El objetivo es predecir si el tumor es maligno o benigno, basado en estas características. Las características incluyen el radio, la textura, el perímetro, el área, la suavidad, etc.\n",
    "\n",
    "Vamos a cargar el dataset y ver cómo se organiza.\n"
   ]
  },
  {
   "cell_type": "code",
   "execution_count": 2,
   "id": "79d401da",
   "metadata": {},
   "outputs": [
    {
     "name": "stdout",
     "output_type": "stream",
     "text": [
      "Características del dataset:\n",
      "['mean radius' 'mean texture' 'mean perimeter' 'mean area'\n",
      " 'mean smoothness' 'mean compactness' 'mean concavity'\n",
      " 'mean concave points' 'mean symmetry' 'mean fractal dimension'\n",
      " 'radius error' 'texture error' 'perimeter error' 'area error'\n",
      " 'smoothness error' 'compactness error' 'concavity error'\n",
      " 'concave points error' 'symmetry error' 'fractal dimension error'\n",
      " 'worst radius' 'worst texture' 'worst perimeter' 'worst area'\n",
      " 'worst smoothness' 'worst compactness' 'worst concavity'\n",
      " 'worst concave points' 'worst symmetry' 'worst fractal dimension']\n",
      "Forma de X: (569, 30)\n",
      "Forma de y: (569,)\n"
     ]
    }
   ],
   "source": [
    "# Cargar el dataset de cáncer de mama\n",
    "data = load_breast_cancer()\n",
    "X = data.data\n",
    "y = data.target\n",
    "\n",
    "# Mostrar algunas características del dataset para entenderlo mejor\n",
    "print(\"Características del dataset:\")\n",
    "print(data.feature_names)\n",
    "print(\"Forma de X:\", X.shape)\n",
    "print(\"Forma de y:\", y.shape)\n"
   ]
  },
  {
   "cell_type": "markdown",
   "id": "200d2b2f",
   "metadata": {},
   "source": [
    "**Explicación**:\n",
    "\n",
    "- **`X`** contiene las características del dataset (30 columnas).\n",
    "- **`y`** contiene las etiquetas de clase (0 = benigno, 1 = maligno).\n",
    "\n",
    "Aquí imprimimos el nombre de las características y las dimensiones de los datos para obtener una idea general del conjunto de datos.\n"
   ]
  },
  {
   "cell_type": "markdown",
   "id": "2ef08ed1",
   "metadata": {},
   "source": [
    "### Parámetros del Algoritmo Genético\n",
    "\n",
    "El algoritmo genético requiere varios parámetros que controlan el proceso de evolución. Aquí definimos algunos de los más importantes:\n",
    "\n",
    "- **Tamaño de la población (`POPULATION_SIZE`)**: Cuántos individuos habrá en cada generación.\n",
    "- **Número de generaciones (`GENERATIONS`)**: Cuántas iteraciones del algoritmo vamos a realizar.\n",
    "- **Tamaño del torneo (`TOURNAMENT_SIZE`)**: Número de individuos seleccionados en cada torneo.\n",
    "- **Probabilidad de cruce (`CROSSOVER_PROBABILITY`)**: La probabilidad de que ocurra un cruce entre dos padres para generar hijos.\n",
    "- **Probabilidad de mutación (`MUTATION_PROBABILITY`)**: La probabilidad de que un individuo sufra una mutación en algún gen.\n",
    "\n",
    "Veamos cómo los definimos en el código.\n"
   ]
  },
  {
   "cell_type": "code",
   "execution_count": 3,
   "id": "542f1dd8",
   "metadata": {},
   "outputs": [],
   "source": [
    "# Parámetros del algoritmo genético\n",
    "POPULATION_SIZE = 20  # Tamaño de la población\n",
    "GENERATIONS = 50  # Número de generaciones\n",
    "TOURNAMENT_SIZE = 5  # Número de individuos en el torneo de selección\n",
    "CROSSOVER_PROBABILITY = 0.8  # Probabilidad de cruce\n",
    "MUTATION_PROBABILITY = 0.2  # Probabilidad de mutación\n"
   ]
  },
  {
   "cell_type": "markdown",
   "id": "a6441683",
   "metadata": {},
   "source": [
    "**Explicación**:\n",
    "\n",
    "- **Población de tamaño 20**: Usamos una población moderada de 20 individuos para balancear la diversidad y el tiempo de ejecución.\n",
    "- **Generaciones de 50**: El número de generaciones se elige para asegurarse de que el algoritmo tenga tiempo suficiente para evolucionar y converger hacia una solución óptima.\n",
    "- **Probabilidades de cruce y mutación**: Elegimos probabilidades de cruce del 80% y mutación del 20%, lo que es bastante común en los algoritmos genéticos. Esto significa que, en cada iteración, el 80% de los pares de padres sufrirán cruce, mientras que el 20% tendrán mutaciones.\n"
   ]
  },
  {
   "cell_type": "markdown",
   "id": "947a51b9",
   "metadata": {},
   "source": [
    "### Inicialización de la Población\n",
    "\n",
    "Cada individuo es un vector binario, donde cada bit representa si una característica es seleccionada (1) o no (0). El número total de características es 30, por lo que cada individuo tiene 30 bits. Inicializamos la población de forma aleatoria.\n"
   ]
  },
  {
   "cell_type": "code",
   "execution_count": 4,
   "id": "d4592669",
   "metadata": {},
   "outputs": [
    {
     "name": "stdout",
     "output_type": "stream",
     "text": [
      "Población inicial (algunos individuos):\n",
      "[[1 0 0 1 1 1 0 1 0 0 0 0 0 1 1 1 0 1 1 0 0 1 1 1 1 1 1 1 0 1]\n",
      " [0 1 0 0 1 1 0 1 1 0 0 0 0 0 1 0 0 0 1 1 0 0 0 1 1 0 1 1 0 1]\n",
      " [1 1 1 0 0 0 0 1 1 0 1 0 1 1 1 0 1 0 0 0 1 0 0 0 0 1 1 1 0 0]\n",
      " [0 0 0 1 0 1 0 0 1 0 0 1 1 1 1 1 1 0 1 0 0 1 1 0 0 1 1 0 1 0]\n",
      " [0 1 1 1 0 0 0 0 0 0 0 0 1 1 0 1 1 1 0 0 0 1 0 1 0 1 0 1 1 1]]\n"
     ]
    }
   ],
   "source": [
    "# Inicialización de la población\n",
    "initialPopulation = np.random.randint(2, size=(POPULATION_SIZE, X.shape[1]))  # Población aleatoria de 0s y 1s\n",
    "\n",
    "# Ver los primeros individuos de la población\n",
    "print(\"Población inicial (algunos individuos):\")\n",
    "print(initialPopulation[:5])  # Mostrar los primeros 5 individuos\n"
   ]
  },
  {
   "cell_type": "markdown",
   "id": "4f7226db",
   "metadata": {},
   "source": [
    "**Explicación**:\n",
    "\n",
    "- **Población**: Es un arreglo de tamaño `(POPULATION_SIZE, 30)` (20 individuos, 30 características). Cada elemento del arreglo es un valor binario (0 o 1) que indica si esa característica está seleccionada o no.\n",
    "- Aquí mostramos los primeros 5 individuos para tener una idea de cómo es la población inicial.\n"
   ]
  },
  {
   "cell_type": "markdown",
   "id": "af007007",
   "metadata": {},
   "source": [
    "### Algoritmo Genético\n",
    "\n",
    "El algoritmo genético simula el proceso de evolución de las especies para encontrar la mejor combinación de características. Esto se hace mediante la selección, el cruce y la mutación de los individuos en cada generación.\n",
    "\n",
    "**Métodos del algoritmo**:\n",
    "\n",
    "1. **`fitnessFunction`**: Evalúa qué tan bueno es un individuo según su capacidad para clasificar correctamente los datos usando el árbol de decisión.\n",
    "2. **`tournamentSelection`**: Selecciona dos padres por torneo.\n",
    "3. **`crossover`**: Realiza el cruce de dos individuos para generar dos hijos.\n",
    "4. **`mutate`**: Realiza una mutación aleatoria en el individuo.\n",
    "5. **`run`**: Ejecuta el algoritmo durante varias generaciones.\n"
   ]
  },
  {
   "cell_type": "code",
   "execution_count": null,
   "id": "fac3d585",
   "metadata": {},
   "outputs": [],
   "source": [
    "class GeneticAlgorithm:\n",
    "    def __init__(self, population):\n",
    "        self.population = population\n",
    "        # Inicializamos los mejores valores con el primer individuo de la población\n",
    "        self.bestIndividual = self.population[0].copy()\n",
    "        self.bestFitness = self.fitnessFunction(self.bestIndividual)  # Calcular la aptitud del primer individuo\n",
    "\n",
    "    def fitnessFunction(self, individual):\n",
    "        \"\"\"\n",
    "        Función de aptitud que calcula el rendimiento del clasificador (en este caso, un árbol de decisión) \n",
    "        usando las características seleccionadas por el individuo.\n",
    "        \"\"\"\n",
    "        # Filtrar las características seleccionadas\n",
    "        selectedFeatures = [index for index in range(len(individual)) if individual[index] == 1]\n",
    "        \n",
    "        # Si no hay características seleccionadas, la aptitud es 0 (el modelo no puede entrenarse sin características)\n",
    "        if len(selectedFeatures) == 0:\n",
    "            return 0.0\n",
    "        \n",
    "        X_selected = X[:, selectedFeatures]  # Subconjunto de características seleccionadas\n",
    "        classifier = DecisionTreeClassifier()  # Modelo de clasificador\n",
    "        scores = cross_val_score(classifier, X_selected, y, cv=5)  # Validación cruzada con 5 divisiones\n",
    "        return scores.mean()  # La aptitud es la media de las puntuaciones obtenidas\n",
    "\n",
    "    def tournamentSelection(self):\n",
    "        \"\"\"\n",
    "        Selección por torneo: elegimos aleatoriamente un grupo de individuos y seleccionamos el mejor.\n",
    "        \"\"\"\n",
    "        tournament = random.sample(list(self.population), TOURNAMENT_SIZE)  # Elegir aleatoriamente a los competidores\n",
    "        tournamentFitness = [self.fitnessFunction(ind) for ind in tournament]  # Calcular la aptitud de cada uno\n",
    "        winnerIndex = np.argmax(tournamentFitness)  # Encontrar el índice del individuo con mejor aptitud\n",
    "        return tournament[winnerIndex]  # Devolver el individuo ganador\n",
    "\n",
    "    def crossover(self, parent1, parent2):\n",
    "        \"\"\"\n",
    "        Cruce de dos individuos para generar dos hijos.\n",
    "        Realizamos un cruce de tipo \"un punto\", donde se selecciona un punto aleatorio en el cromosoma y se intercambia.\n",
    "        \"\"\"\n",
    "        if random.random() < CROSSOVER_PROBABILITY:  # Si se cumple la probabilidad de cruce\n",
    "            point = random.randint(1, len(parent1) - 1)  # Elegir el punto de cruce aleatorio\n",
    "            # Generar los hijos intercambiando las partes de los padres\n",
    "            child1 = np.concatenate((parent1[:point], parent2[point:]))\n",
    "            child2 = np.concatenate((parent2[:point], parent1[point:]))\n",
    "            return child1, child2\n",
    "        else:\n",
    "            return parent1.copy(), parent2.copy()  # Sin cruce, los hijos son copias de los padres\n",
    "\n",
    "    def mutate(self, individual):\n",
    "        \"\"\"\n",
    "        Mutación de un individuo: cambiamos aleatoriamente un gen del cromosoma (de 0 a 1 o de 1 a 0).\n",
    "        \"\"\"\n",
    "        for index in range(len(individual)):\n",
    "            if random.random() < MUTATION_PROBABILITY:  # Si se cumple la probabilidad de mutación\n",
    "                individual[index] = 1 - individual[index]  # Cambiar el valor de 0 a 1 o de 1 a 0\n",
    "        return individual\n",
    "\n",
    "    def run(self):\n",
    "        \"\"\"\n",
    "        Ejecutamos el algoritmo genético durante un número fijo de generaciones.\n",
    "        \"\"\"\n",
    "        best_fitnesses = []  # Lista para almacenar las mejores aptitudes por generación\n",
    "        for generation in range(GENERATIONS):\n",
    "            newPopulation = []  # Nueva población\n",
    "\n",
    "            # Agregar elitismo: conservar el mejor individuo\n",
    "            best_individual = self.bestIndividual.copy()\n",
    "            best_fitness = self.bestFitness\n",
    "            newPopulation.append(best_individual)\n",
    "\n",
    "            while len(newPopulation) < POPULATION_SIZE:  # Hasta completar el tamaño de la población\n",
    "                parent1 = self.tournamentSelection()  # Seleccionar al primer padre\n",
    "                parent2 = self.tournamentSelection()  # Seleccionar al segundo padre\n",
    "                child1, child2 = self.crossover(parent1, parent2)  # Realizar el cruce\n",
    "                child1 = self.mutate(child1)  # Mutar al primer hijo\n",
    "                child2 = self.mutate(child2)  # Mutar al segundo hijo\n",
    "                newPopulation.append(child1)  # Añadir el primer hijo\n",
    "                newPopulation.append(child2)  # Añadir el segundo hijo\n",
    "\n",
    "            # Reducir tamaño de población en caso de exceder el número deseado\n",
    "            self.population = np.array(newPopulation[:POPULATION_SIZE])\n",
    "\n",
    "            # Evaluar la mejor aptitud en esta generación\n",
    "            generationBestFitness = 0.0\n",
    "            generationBestIndividual = None\n",
    "            for individual in self.population:\n",
    "                fitness = self.fitnessFunction(individual)\n",
    "                if fitness > generationBestFitness:\n",
    "                    generationBestFitness = fitness\n",
    "                    generationBestIndividual = individual\n",
    "\n",
    "            # Actualizar el mejor individuo global si es necesario\n",
    "            if generationBestFitness > self.bestFitness:\n",
    "                self.bestFitness = generationBestFitness\n",
    "                self.bestIndividual = generationBestIndividual\n",
    "\n",
    "            best_fitnesses.append(generationBestFitness)  # Guardar la mejor aptitud de esta generación\n",
    "            print(f\"Generación {generation + 1}: Mejor Aptitud = {generationBestFitness:.4f}\")\n",
    "\n",
    "        # Mostrar el resultado final\n",
    "        print(f\"Aptitud Global Mejor: {self.bestFitness:.4f}\")\n",
    "        print(f\"Mejor Individuo Global: {self.bestIndividual}\")\n",
    "\n",
    "        # Graficar el progreso de la aptitud\n",
    "        plt.plot(best_fitnesses)\n",
    "        plt.xlabel('Generaciones')\n",
    "        plt.ylabel('Mejor Aptitud')\n",
    "        plt.title('Progreso del Algoritmo Genético')\n",
    "        plt.show()\n"
   ]
  },
  {
   "cell_type": "markdown",
   "id": "6913c02c",
   "metadata": {},
   "source": [
    "### Ejecutando el Algoritmo Genético\n",
    "\n",
    "Ahora que hemos definido la clase `GeneticAlgorithm`, creamos una instancia de ella con la población inicial y ejecutamos el algoritmo. Al final, se mostrará el gráfico con la evolución de la aptitud a través de las generaciones.\n"
   ]
  },
  {
   "cell_type": "code",
   "execution_count": 6,
   "id": "720ad8b2",
   "metadata": {},
   "outputs": [
    {
     "name": "stdout",
     "output_type": "stream",
     "text": [
      "Generación 1: Mejor Aptitud = 0.9437\n",
      "Generación 2: Mejor Aptitud = 0.9490\n",
      "Generación 3: Mejor Aptitud = 0.9508\n",
      "Generación 4: Mejor Aptitud = 0.9526\n",
      "Generación 5: Mejor Aptitud = 0.9543\n",
      "Generación 6: Mejor Aptitud = 0.9596\n",
      "Generación 7: Mejor Aptitud = 0.9508\n",
      "Generación 8: Mejor Aptitud = 0.9526\n",
      "Generación 9: Mejor Aptitud = 0.9561\n",
      "Generación 10: Mejor Aptitud = 0.9490\n",
      "Generación 11: Mejor Aptitud = 0.9491\n",
      "Generación 12: Mejor Aptitud = 0.9473\n",
      "Generación 13: Mejor Aptitud = 0.9578\n",
      "Generación 14: Mejor Aptitud = 0.9508\n",
      "Generación 15: Mejor Aptitud = 0.9526\n",
      "Generación 16: Mejor Aptitud = 0.9543\n",
      "Generación 17: Mejor Aptitud = 0.9578\n",
      "Generación 18: Mejor Aptitud = 0.9543\n",
      "Generación 19: Mejor Aptitud = 0.9508\n",
      "Generación 20: Mejor Aptitud = 0.9543\n",
      "Generación 21: Mejor Aptitud = 0.9525\n",
      "Generación 22: Mejor Aptitud = 0.9543\n",
      "Generación 23: Mejor Aptitud = 0.9508\n",
      "Generación 24: Mejor Aptitud = 0.9473\n",
      "Generación 25: Mejor Aptitud = 0.9508\n",
      "Generación 26: Mejor Aptitud = 0.9473\n",
      "Generación 27: Mejor Aptitud = 0.9526\n",
      "Generación 28: Mejor Aptitud = 0.9543\n",
      "Generación 29: Mejor Aptitud = 0.9490\n",
      "Generación 30: Mejor Aptitud = 0.9526\n",
      "Generación 31: Mejor Aptitud = 0.9526\n",
      "Generación 32: Mejor Aptitud = 0.9560\n",
      "Generación 33: Mejor Aptitud = 0.9561\n",
      "Generación 34: Mejor Aptitud = 0.9578\n",
      "Generación 35: Mejor Aptitud = 0.9543\n",
      "Generación 36: Mejor Aptitud = 0.9543\n",
      "Generación 37: Mejor Aptitud = 0.9525\n",
      "Generación 38: Mejor Aptitud = 0.9596\n",
      "Generación 39: Mejor Aptitud = 0.9596\n",
      "Generación 40: Mejor Aptitud = 0.9578\n",
      "Generación 41: Mejor Aptitud = 0.9578\n",
      "Generación 42: Mejor Aptitud = 0.9561\n",
      "Generación 43: Mejor Aptitud = 0.9543\n",
      "Generación 44: Mejor Aptitud = 0.9596\n",
      "Generación 45: Mejor Aptitud = 0.9614\n",
      "Generación 46: Mejor Aptitud = 0.9596\n",
      "Generación 47: Mejor Aptitud = 0.9561\n",
      "Generación 48: Mejor Aptitud = 0.9631\n",
      "Generación 49: Mejor Aptitud = 0.9578\n",
      "Generación 50: Mejor Aptitud = 0.9561\n",
      "Aptitud Global Mejor: 0.9631\n",
      "Mejor Individuo Global: [1 0 0 1 0 0 1 1 0 1 1 0 1 0 1 1 0 0 0 0 0 1 0 1 0 0 0 0 0 1]\n"
     ]
    },
    {
     "data": {
      "image/png": "[encoded data removed]",
      "text/plain": [
       "<Figure size 640x480 with 1 Axes>"
      ]
     },
     "metadata": {},
     "output_type": "display_data"
    }
   ],
   "source": [
    "# Crear una instancia del algoritmo genético y ejecutarlo\n",
    "ga = GeneticAlgorithm(initialPopulation)\n",
    "ga.run()\n"
   ]
  }
 ],
 "metadata": {
  "kernelspec": {
   "display_name": "venv",
   "language": "python",
   "name": "python3"
  },
  "language_info": {
   "codemirror_mode": {
    "name": "ipython",
    "version": 3
   },
   "file_extension": ".py",
   "mimetype": "text/x-python",
   "name": "python",
   "nbconvert_exporter": "python",
   "pygments_lexer": "ipython3",
   "version": "3.10.18"
  }
 },
 "nbformat": 4,
 "nbformat_minor": 5
}
